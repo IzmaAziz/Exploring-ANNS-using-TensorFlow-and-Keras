{
 "cells": [
  {
   "cell_type": "markdown",
   "metadata": {
    "id": "YEbEpEWH5GQe"
   },
   "source": [
    "# Imports"
   ]
  },
  {
   "cell_type": "code",
   "execution_count": 1,
   "metadata": {
    "executionInfo": {
     "elapsed": 3367,
     "status": "ok",
     "timestamp": 1645799355417,
     "user": {
      "displayName": "Dr. Maria Waqas",
      "photoUrl": "https://lh3.googleusercontent.com/a-/AOh14GhBa4nlXIxf-za5dW7mz6ampscXEPTb1NBtc3qv=s64",
      "userId": "09814330871084758340"
     },
     "user_tz": -300
    },
    "id": "d6NRfj76ojE8"
   },
   "outputs": [],
   "source": [
    "import os\n",
    "import numpy as np\n",
    "import tensorflow as tf\n",
    "import keras\n",
    "import itertools\n",
    "\n",
    "#from keras.preprocessing.image import img_to_array, load_img\n",
    "from tensorflow.keras.utils import img_to_array, array_to_img, load_img\n",
    "from keras.applications.inception_resnet_v2 import InceptionResNetV2, decode_predictions, preprocess_input\n",
    "\n",
    "from keras.applications.vgg19 import VGG19\n",
    "from keras.applications.vgg19 import preprocess_input as preprocess_input_vgg19\n",
    "from keras.applications.vgg19 import decode_predictions as decode_vgg19\n",
    "\n",
    "from keras.datasets import cifar10\n",
    "#this dataset can also be downloaded from https://www.cs.toronto.edu/~kriz/cifar.html\n",
    "\n",
    "from keras.models import Sequential\n",
    "from keras.layers import Dense, Activation, Dropout\n",
    "from keras.callbacks import TensorBoard\n",
    "\n",
    "from time import strftime # gives hours and minutes of current time.\n",
    "\n",
    "from sklearn.metrics import confusion_matrix\n",
    "\n",
    "import matplotlib.pyplot as plt"
   ]
  },
  {
   "cell_type": "markdown",
   "metadata": {},
   "source": [
    "The following codes can be run in two ways:\n",
    "1. Run on your local machine using anaconda.\n",
    "   - To install TensorFlow2 and Keras on Anaconda, run the following commands on the shell:\\\n",
    "     conda install –c conda-forge tensorflow\\\n",
    "     conda install –c conda-forge keras\n",
    "     \n",
    "   - It can also be installed using pip as follows:\\\n",
    "     pip install --upgrade pip\\\n",
    "     pip install tensorflow \n",
    "     \n",
    "     \n",
    "2. Run on Google Colaboratory (CoLab).\n",
    "   - No installation required.\n",
    "   - The images and data used in code has to be uploaded (in the files area) afresh everytime   CoLab is used. \n",
    "   - One trick around is to place all the data and images in Google Drive and mount the drive in Google Colab as shown in the following code. This will save us from uploading the images again anad again everytime use use the notebook.\n",
    "     "
   ]
  },
  {
   "cell_type": "markdown",
   "metadata": {
    "id": "BeLSimhmOB9k"
   },
   "source": [
    "# Using Pre-trained Models from Keras\n",
    "- 10 random images are selected from https://unsplash.com/.\n",
    "  The website contains high-resolution images from professional photographers.\n",
    "\n",
    "\n",
    "- Performance of the following two pre-trained models from Keras is compared on these images:\n",
    "  1. Inception-ResNet-v2 \n",
    "  2. VGG19\n",
    "\n",
    "\n",
    "- For other models, see [keras pre-trained applications](https://keras.io/api/applications/)"
   ]
  },
  {
   "cell_type": "markdown",
   "metadata": {
    "id": "XpIQGQY89znt"
   },
   "source": [
    "# Mounting Google Drive\n",
    "- This code will mount my google drive on Colab.\n",
    "- It is requied if Google Colab is used, not required if the code is run on Anaconda."
   ]
  },
  {
   "cell_type": "code",
   "execution_count": null,
   "metadata": {
    "colab": {
     "base_uri": "https://localhost:8080/"
    },
    "executionInfo": {
     "elapsed": 26753,
     "status": "ok",
     "timestamp": 1645799382746,
     "user": {
      "displayName": "Dr. Maria Waqas",
      "photoUrl": "https://lh3.googleusercontent.com/a-/AOh14GhBa4nlXIxf-za5dW7mz6ampscXEPTb1NBtc3qv=s64",
      "userId": "09814330871084758340"
     },
     "user_tz": -300
    },
    "id": "_UYguFLCu13o",
    "outputId": "01cc385f-19df-4eb6-d2c7-91753cd4eac5"
   },
   "outputs": [],
   "source": [
    "from google.colab import drive\n",
    "drive.mount('/content/gdrive')"
   ]
  },
  {
   "cell_type": "markdown",
   "metadata": {
    "id": "hinQ_rUorEsO"
   },
   "source": [
    "# Constants for file names along with paths\n",
    "\n",
    "These images have been taken from https://unsplash.com/, which contains high-resolution images from professional photographers."
   ]
  },
  {
   "cell_type": "code",
   "execution_count": null,
   "metadata": {
    "colab": {
     "base_uri": "https://localhost:8080/",
     "height": 273
    },
    "executionInfo": {
     "elapsed": 1207,
     "status": "ok",
     "timestamp": 1645799468035,
     "user": {
      "displayName": "Dr. Maria Waqas",
      "photoUrl": "https://lh3.googleusercontent.com/a-/AOh14GhBa4nlXIxf-za5dW7mz6ampscXEPTb1NBtc3qv=s64",
      "userId": "09814330871084758340"
     },
     "user_tz": -300
    },
    "id": "hC6dpJAhpSta",
    "outputId": "26e3126a-1bbe-4eb5-e595-948f254219d1"
   },
   "outputs": [],
   "source": [
    "#Run this cell only if Google Colab is used.\n",
    "#The images are placed on my google drive in a folder named Images\n",
    "FILE_1='/content/gdrive/My Drive/Images/01_Umbrella.jpg'\n",
    "FILE_2='/content/gdrive/My Drive/Images/02_Shoe.jpg'\n",
    "FILE_3='/content/gdrive/My Drive/Images/03_Ocean.jpg'\n",
    "FILE_4='/content/gdrive/My Drive/Images/04_Horse.jpg'\n",
    "FILE_5='/content/gdrive/My Drive/Images/05_City.jpg'\n",
    "FILE_6='/content/gdrive/My Drive/Images/06_Feet.jpg'\n",
    "FILE_7='/content/gdrive/My Drive/Images/07_Stairs.jpg'\n",
    "FILE_8='/content/gdrive/My Drive/Images/08_Doorway.jpg'\n",
    "FILE_9='/content/gdrive/My Drive/Images/09_Ice_Cream.jpg'\n",
    "FILE_10='/content/gdrive/My Drive/Images/10_Red_Shoes.jpg'"
   ]
  },
  {
   "cell_type": "code",
   "execution_count": null,
   "metadata": {},
   "outputs": [],
   "source": [
    "#Run this cell only if Anaconda is used.\n",
    "#The images are placed in a folder named Images.\n",
    "FILE_1='Images/01_Umbrella.jpg'\n",
    "FILE_2='Images/02_Shoe.jpg'\n",
    "FILE_3='Images/03_Ocean.jpg'\n",
    "FILE_4='Images/04_Horse.jpg'\n",
    "FILE_5='Images/05_City.jpg'\n",
    "FILE_6='Images/06_Feet.jpg'\n",
    "FILE_7='Images/07_Stairs.jpg'\n",
    "FILE_8='Images/08_Doorway.jpg'\n",
    "FILE_9='Images/09_Ice_Cream.jpg'\n",
    "FILE_10='Images/10_Red_Shoes.jpg'"
   ]
  },
  {
   "cell_type": "code",
   "execution_count": null,
   "metadata": {},
   "outputs": [],
   "source": [
    "#Let's display one of the images here.\n",
    "pic = load_img(FILE_1) #A method from Keras\n",
    "display(pic)  #Display is a function in module IPython.core.display; displays a Python object in all frontends."
   ]
  },
  {
   "cell_type": "code",
   "execution_count": null,
   "metadata": {
    "colab": {
     "base_uri": "https://localhost:8080/"
    },
    "executionInfo": {
     "elapsed": 609,
     "status": "ok",
     "timestamp": 1645799591553,
     "user": {
      "displayName": "Dr. Maria Waqas",
      "photoUrl": "https://lh3.googleusercontent.com/a-/AOh14GhBa4nlXIxf-za5dW7mz6ampscXEPTb1NBtc3qv=s64",
      "userId": "09814330871084758340"
     },
     "user_tz": -300
    },
    "id": "xLIxnCEXWxNT",
    "outputId": "907e6cd2-456e-442e-ffd3-1194327d5ae8"
   },
   "outputs": [],
   "source": [
    "#Converting jpeg image to array\n",
    "pic_arr = img_to_array(pic)  #a keras method\n",
    "pic_arr\n",
    "pic_arr.shape #Note that it is a 3D tensor"
   ]
  },
  {
   "cell_type": "markdown",
   "metadata": {},
   "source": [
    "## Model 1: VGG19\n",
    "- Created by researchers at oxford university UK. \n",
    "- A convolutional neural network trained on more than a million images from the ImageNet database. \n",
    "- ImageNet is a high quality database of around 14 million labelled/hand-annotated images, containing almost 22,000 separate object categories, created and maintained by Princeton and Stanford University. \n",
    "- VGG16 network is 16 layers deep and VGG19 is 19 layers deep.\n",
    "- Can classify images into over 1000 object categories, such as keyboard, mouse, pencil, and many animals. \n",
    "- Every predefined model expects us to provide input in certain format.\n",
    "- The VGG network requires an image input of size 224-by-224, in the form of 4D tensor of shape (samples, height, width, channels). "
   ]
  },
  {
   "cell_type": "markdown",
   "metadata": {},
   "source": [
    "### Loading the Model"
   ]
  },
  {
   "cell_type": "code",
   "execution_count": null,
   "metadata": {},
   "outputs": [],
   "source": [
    "%%time\n",
    "vgg19_model = VGG19()"
   ]
  },
  {
   "cell_type": "markdown",
   "metadata": {},
   "source": [
    "### Preprocessing the Input Image\n",
    "- The image tensor must be of a specific resolution and specific shape."
   ]
  },
  {
   "cell_type": "code",
   "execution_count": null,
   "metadata": {},
   "outputs": [],
   "source": [
    "#Loading image in the desired resolution, as per the model requirements.\n",
    "img_m1 = load_img(FILE_1, target_size=(224,224))\n",
    "\n",
    "#Converting the loaded image into array\n",
    "img_arr_m1 = img_to_array(img_m1)\n",
    "\n",
    "#Adding a dimension as per the model requirements, the model requires a 4D tensor.\n",
    "img_expanded_m1 = np.expand_dims(img_arr_m1, axis=0)\n",
    "print('Shape before expansion:',img_arr_m1.shape)\n",
    "print('Shape after expansion:',img_expanded_m1.shape)\n",
    "\n",
    "#Preprocessing the image as per the model requirements.\n",
    "preprocessed_img_m1 = preprocess_input(img_expanded_m1)"
   ]
  },
  {
   "cell_type": "markdown",
   "metadata": {},
   "source": [
    "### Making Predictions"
   ]
  },
  {
   "cell_type": "code",
   "execution_count": null,
   "metadata": {},
   "outputs": [],
   "source": [
    "display(img_m1)\n",
    "prediction_m1 = vgg19_model.predict(preprocessed_img_m1)\n",
    "decode_vgg19(prediction_m1)"
   ]
  },
  {
   "cell_type": "markdown",
   "metadata": {},
   "source": [
    "The output shows that there is a:\n",
    "- 20.61% chance that the image contains a mosquito net,\n",
    "- 3.27% chance that the image contains a shower curtain, \n",
    "- 2.04% chance that the image contains a crib,\n",
    "- 1.88% chance that the image contains a toilet tissue, and\n",
    "- 1.85% chance that the image contains an envelope."
   ]
  },
  {
   "cell_type": "code",
   "execution_count": null,
   "metadata": {},
   "outputs": [],
   "source": [
    "#TASK FOR YOU\n",
    "#Now try running the prediction using each of the following statements and observe the output.\n",
    "#Don't forget to run the decode_predictions(prediction_m1) method.\n",
    "#prediction_m1 = inception_model.predict(img_m1)\n",
    "#prediction_m1 = inception_model.predict(img_expanded_m1)\n",
    "\n",
    "#Try predictions on remaining 9 images (from FILE_2 to FILE_10)."
   ]
  },
  {
   "cell_type": "markdown",
   "metadata": {
    "id": "vik6lqu0Ogue"
   },
   "source": [
    "## Model 2: InceptionResNetV2\n",
    "- A convolutional neural network trained on more than a million images from the ImageNet database. \n",
    "- The network is 164 layers deep and can classify images into over 1000 object categories, such as keyboard, mouse, pencil, and many animals. \n",
    "- This network requires an image input of size 299-by-299, in the form of 4D tensor of shape (samples, height, width, channels). "
   ]
  },
  {
   "cell_type": "markdown",
   "metadata": {
    "id": "OY-CNQfYTe9u"
   },
   "source": [
    "### Loading the Model"
   ]
  },
  {
   "cell_type": "code",
   "execution_count": null,
   "metadata": {
    "colab": {
     "base_uri": "https://localhost:8080/"
    },
    "executionInfo": {
     "elapsed": 10644,
     "status": "ok",
     "timestamp": 1645799683804,
     "user": {
      "displayName": "Dr. Maria Waqas",
      "photoUrl": "https://lh3.googleusercontent.com/a-/AOh14GhBa4nlXIxf-za5dW7mz6ampscXEPTb1NBtc3qv=s64",
      "userId": "09814330871084758340"
     },
     "user_tz": -300
    },
    "id": "c2FBsvNrRXk6",
    "outputId": "608ee756-6381-4e68-b3f5-f076e359a85e"
   },
   "outputs": [],
   "source": [
    "%%time\n",
    "inception_model = InceptionResNetV2(weights='imagenet')"
   ]
  },
  {
   "cell_type": "markdown",
   "metadata": {
    "id": "sEuNV70OrSyD"
   },
   "source": [
    "### Preprocessing the Input Image\n",
    "- The image tensor must be of a specific resolution and specific shape."
   ]
  },
  {
   "cell_type": "code",
   "execution_count": null,
   "metadata": {
    "colab": {
     "base_uri": "https://localhost:8080/"
    },
    "executionInfo": {
     "elapsed": 775,
     "status": "ok",
     "timestamp": 1645800052363,
     "user": {
      "displayName": "Dr. Maria Waqas",
      "photoUrl": "https://lh3.googleusercontent.com/a-/AOh14GhBa4nlXIxf-za5dW7mz6ampscXEPTb1NBtc3qv=s64",
      "userId": "09814330871084758340"
     },
     "user_tz": -300
    },
    "id": "o9jkudIOVd8u",
    "outputId": "7e4319c9-768f-46c3-a525-e8fe0e830ffc"
   },
   "outputs": [],
   "source": [
    "#Loading image in the desired resolution, as per the model requirements.\n",
    "img_m2 = load_img(FILE_1, target_size=(299,299))\n",
    "\n",
    "#Converting the loaded image into array\n",
    "img_arr_m2 = img_to_array(img_m2)\n",
    "\n",
    "#Adding a dimension as per the model requirements, the model requires a 4D tensor.\n",
    "img_expanded_m2 = np.expand_dims(img_arr_m2, axis=0)\n",
    "print('Shape before expansion:',img_arr_m2.shape)\n",
    "print('Shape after expansion:',img_expanded_m2.shape)\n",
    "\n",
    "#Preprocessing the image as per the model requirements.\n",
    "preprocessed_img_m2 = preprocess_input(img_expanded_m2)"
   ]
  },
  {
   "cell_type": "markdown",
   "metadata": {
    "id": "DavoPofuXwkE"
   },
   "source": [
    "### Making Predictions"
   ]
  },
  {
   "cell_type": "code",
   "execution_count": null,
   "metadata": {
    "colab": {
     "base_uri": "https://localhost:8080/",
     "height": 402
    },
    "executionInfo": {
     "elapsed": 16,
     "status": "ok",
     "timestamp": 1645800058202,
     "user": {
      "displayName": "Dr. Maria Waqas",
      "photoUrl": "https://lh3.googleusercontent.com/a-/AOh14GhBa4nlXIxf-za5dW7mz6ampscXEPTb1NBtc3qv=s64",
      "userId": "09814330871084758340"
     },
     "user_tz": -300
    },
    "id": "NXZuwZ_kV2hX",
    "outputId": "f5b1837b-4e57-476e-face-140c1ec23fb9"
   },
   "outputs": [],
   "source": [
    "display(img_m2)\n",
    "prediction_m2 = inception_model.predict(preprocessed_img_m2)\n",
    "decode_predictions(prediction_m2)"
   ]
  },
  {
   "cell_type": "markdown",
   "metadata": {},
   "source": [
    "The output shows that there is a:\n",
    "- 82.92% chance that the image contains an umbrella,\n",
    "- 0.12% chance that the image contains a mountain tent, \n",
    "- 0.11% chance that the image contains a trench coat,\n",
    "- 0.11% chance that the image contains a mosque, and\n",
    "- 0.10% chance that the image contains a dome."
   ]
  },
  {
   "cell_type": "markdown",
   "metadata": {},
   "source": [
    "# Building ANN Model from Scratch"
   ]
  },
  {
   "cell_type": "markdown",
   "metadata": {
    "id": "Vpdmbd02ZOeo"
   },
   "source": [
    "## Callbacks\n",
    "A callback is an object that can perform actions at various stages of training (e.g. at the start or end of an epoch, before or after a single batch, etc).\n",
    "\n",
    "It is a function that is passed as an argument to other function, which is expected to call back (execute) the argument at some convenient time. \n",
    "\n",
    "You can use callbacks to:\n",
    "\n",
    "- Write TensorBoard logs after every batch of training to monitor your metrics\n",
    "- Periodically save your model to disk\n",
    "- Do early stopping\n",
    "- Get a view on internal states and statistics of a model during training"
   ]
  },
  {
   "cell_type": "markdown",
   "metadata": {},
   "source": [
    "## Loading Data"
   ]
  },
  {
   "cell_type": "markdown",
   "metadata": {},
   "source": [
    "- We will train our model on CIFAR-10 dataset.\n",
    "- The CIFAR-10 dataset consists of 60000 32x32 color images in 10 classes, with 6000 images per class.\n",
    "- There are 50000 training images and 10000 test images.\n",
    "- The dataset can also be downloaded from \n",
    "https://www.cs.toronto.edu/~kriz/cifar.html\n"
   ]
  },
  {
   "cell_type": "code",
   "execution_count": 2,
   "metadata": {},
   "outputs": [],
   "source": [
    "(x_train_org, y_train_org), (x_test_org, y_test_org) = cifar10.load_data() #org for original"
   ]
  },
  {
   "cell_type": "markdown",
   "metadata": {},
   "source": [
    "## Exploring the Data"
   ]
  },
  {
   "cell_type": "markdown",
   "metadata": {},
   "source": [
    "Categories in CIFAR10\n",
    "- Category 0: airplane\t\t\t\t\t\t\t\t\t\t\n",
    "- Category 1: automobile\t\t\t\t\t\t\t\t\t\t\n",
    "- Category 2: bird\t\t\t\t\t\t\t\t\t\t\n",
    "- Category 3: cat\t\t\t\t\t\t\t\t\t\t\n",
    "- Category 4: deer\t\t\t\t\t\t\t\t\t\t\n",
    "- Category 5: dog\t\t\t\t\t\t\t\t\t\t\n",
    "- Category 6: frog\t\t\t\t\t\t\t\t\t\t\n",
    "- Category 7: horse\t\t\t\t\t\t\t\t\t\t\n",
    "- Category 8: ship\t\t\t\t\t\t\t\t\t\t\n",
    "- Category 9: truck"
   ]
  },
  {
   "cell_type": "code",
   "execution_count": 3,
   "metadata": {},
   "outputs": [
    {
     "data": {
      "text/plain": [
       "numpy.ndarray"
      ]
     },
     "execution_count": 3,
     "metadata": {},
     "output_type": "execute_result"
    }
   ],
   "source": [
    "#Let us see the type of the data container x_train_all that we have loaded\n",
    "type(x_train_org)"
   ]
  },
  {
   "cell_type": "code",
   "execution_count": 4,
   "metadata": {},
   "outputs": [
    {
     "data": {
      "text/plain": [
       "array([[[ 59,  62,  63],\n",
       "        [ 43,  46,  45],\n",
       "        [ 50,  48,  43],\n",
       "        ...,\n",
       "        [158, 132, 108],\n",
       "        [152, 125, 102],\n",
       "        [148, 124, 103]],\n",
       "\n",
       "       [[ 16,  20,  20],\n",
       "        [  0,   0,   0],\n",
       "        [ 18,   8,   0],\n",
       "        ...,\n",
       "        [123,  88,  55],\n",
       "        [119,  83,  50],\n",
       "        [122,  87,  57]],\n",
       "\n",
       "       [[ 25,  24,  21],\n",
       "        [ 16,   7,   0],\n",
       "        [ 49,  27,   8],\n",
       "        ...,\n",
       "        [118,  84,  50],\n",
       "        [120,  84,  50],\n",
       "        [109,  73,  42]],\n",
       "\n",
       "       ...,\n",
       "\n",
       "       [[208, 170,  96],\n",
       "        [201, 153,  34],\n",
       "        [198, 161,  26],\n",
       "        ...,\n",
       "        [160, 133,  70],\n",
       "        [ 56,  31,   7],\n",
       "        [ 53,  34,  20]],\n",
       "\n",
       "       [[180, 139,  96],\n",
       "        [173, 123,  42],\n",
       "        [186, 144,  30],\n",
       "        ...,\n",
       "        [184, 148,  94],\n",
       "        [ 97,  62,  34],\n",
       "        [ 83,  53,  34]],\n",
       "\n",
       "       [[177, 144, 116],\n",
       "        [168, 129,  94],\n",
       "        [179, 142,  87],\n",
       "        ...,\n",
       "        [216, 184, 140],\n",
       "        [151, 118,  84],\n",
       "        [123,  92,  72]]], dtype=uint8)"
      ]
     },
     "execution_count": 4,
     "metadata": {},
     "output_type": "execute_result"
    }
   ],
   "source": [
    "#Now let us see how each sample in the dataset looks like.\n",
    "x_train_org[0]"
   ]
  },
  {
   "cell_type": "code",
   "execution_count": 5,
   "metadata": {},
   "outputs": [
    {
     "name": "stdout",
     "output_type": "stream",
     "text": [
      "59\n",
      "Type: <class 'numpy.uint8'>\n"
     ]
    }
   ],
   "source": [
    "#If you want to access a single value the try the following code.\n",
    "#Remember it is a 4D tensor.\n",
    "print(x_train_org[0][0][0][0])\n",
    "print('Type:',type(x_train_org[0][0][0][0]))"
   ]
  },
  {
   "cell_type": "code",
   "execution_count": 6,
   "metadata": {},
   "outputs": [
    {
     "data": {
      "text/plain": [
       "(50000, 32, 32, 3)"
      ]
     },
     "execution_count": 6,
     "metadata": {},
     "output_type": "execute_result"
    }
   ],
   "source": [
    "#Let us see the shape of the data container x_train_all that we have loaded\n",
    "x_train_org.shape"
   ]
  },
  {
   "cell_type": "code",
   "execution_count": 7,
   "metadata": {},
   "outputs": [
    {
     "data": {
      "image/png": "[encoded data removed]",
      "text/plain": [
       "<PIL.Image.Image image mode=RGB size=32x32 at 0x1C25AC30CA0>"
      ]
     },
     "metadata": {},
     "output_type": "display_data"
    }
   ],
   "source": [
    "##Let us display the image after converting from array to image\n",
    "pic = array_to_img(x_train_org[7])\n",
    "display(pic)"
   ]
  },
  {
   "cell_type": "code",
   "execution_count": 8,
   "metadata": {},
   "outputs": [
    {
     "data": {
      "text/plain": [
       "(50000, 1)"
      ]
     },
     "execution_count": 8,
     "metadata": {},
     "output_type": "execute_result"
    }
   ],
   "source": [
    "#Now let us see the shape of y_train_all\n",
    "y_train_org.shape\n",
    "#it contains the class number for the object"
   ]
  },
  {
   "cell_type": "code",
   "execution_count": 9,
   "metadata": {},
   "outputs": [
    {
     "data": {
      "text/plain": [
       "7"
      ]
     },
     "execution_count": 9,
     "metadata": {},
     "output_type": "execute_result"
    }
   ],
   "source": [
    "#Let us see the object class number for the horse shown above\n",
    "y_train_org[7][0]\n",
    "#You can see the categories listed in a previous cell that category 7 is 'horse'."
   ]
  },
  {
   "cell_type": "code",
   "execution_count": 10,
   "metadata": {},
   "outputs": [
    {
     "data": {
      "text/plain": [
       "'Horse'"
      ]
     },
     "execution_count": 10,
     "metadata": {},
     "output_type": "execute_result"
    }
   ],
   "source": [
    "#Since remembering all category numbers and their corresponding names is difficult, \n",
    "#let us create labels names list for our own convenience:\n",
    "LABEL_NAMES = ['Plane', 'Car', 'Bird', 'Cat', 'Deer', 'Dog', 'Frog', 'Horse', 'Ship', 'Truck']\n",
    "#Testing our logic\n",
    "LABEL_NAMES[y_train_org[7][0]]"
   ]
  },
  {
   "cell_type": "code",
   "execution_count": 11,
   "metadata": {},
   "outputs": [
    {
     "data": {
      "image/png": "[encoded data removed]",
      "text/plain": [
       "<Figure size 432x288 with 1 Axes>"
      ]
     },
     "metadata": {
      "needs_background": "light"
     },
     "output_type": "display_data"
    }
   ],
   "source": [
    "#An alternate method to view the image using matplotlib.\n",
    "plt.imshow(x_train_org[7])\n",
    "plt.xlabel(LABEL_NAMES[y_train_org[4][0]], fontsize=15)\n",
    "plt.show()"
   ]
  },
  {
   "cell_type": "code",
   "execution_count": 12,
   "metadata": {},
   "outputs": [
    {
     "data": {
      "image/png": "[encoded data removed]",
      "text/plain": [
       "<Figure size 1080x360 with 10 Axes>"
      ]
     },
     "metadata": {},
     "output_type": "display_data"
    }
   ],
   "source": [
    "#matplotlib can display more than 1 images in a row; cannot be done with the display method.\n",
    "plt.figure(figsize=(15,5))\n",
    "\n",
    "#Let us print first 10 images of the x_train_all set along with the names of the objects\n",
    "for i in range(10):\n",
    "    plt.subplot(1, 10, i+1)\n",
    "    plt.yticks([])\n",
    "    plt.xticks([])\n",
    "    plt.xlabel(LABEL_NAMES[y_train_org[i][0]], fontsize=14)\n",
    "    plt.imshow(x_train_org[i])"
   ]
  },
  {
   "cell_type": "markdown",
   "metadata": {},
   "source": [
    "## Preprocessing Data"
   ]
  },
  {
   "cell_type": "markdown",
   "metadata": {},
   "source": [
    "### Scaling and flattening the train data"
   ]
  },
  {
   "cell_type": "code",
   "execution_count": 13,
   "metadata": {},
   "outputs": [],
   "source": [
    "#Scaling the training data between 0 and 1\n",
    "x_train_scaled = x_train_org / 255.0"
   ]
  },
  {
   "cell_type": "code",
   "execution_count": 14,
   "metadata": {},
   "outputs": [
    {
     "data": {
      "text/plain": [
       "array([[[[0.23137255, 0.24313725, 0.24705882],\n",
       "         [0.16862745, 0.18039216, 0.17647059],\n",
       "         [0.19607843, 0.18823529, 0.16862745],\n",
       "         ...,\n",
       "         [0.61960784, 0.51764706, 0.42352941],\n",
       "         [0.59607843, 0.49019608, 0.4       ],\n",
       "         [0.58039216, 0.48627451, 0.40392157]],\n",
       "\n",
       "        [[0.0627451 , 0.07843137, 0.07843137],\n",
       "         [0.        , 0.        , 0.        ],\n",
       "         [0.07058824, 0.03137255, 0.        ],\n",
       "         ...,\n",
       "         [0.48235294, 0.34509804, 0.21568627],\n",
       "         [0.46666667, 0.3254902 , 0.19607843],\n",
       "         [0.47843137, 0.34117647, 0.22352941]],\n",
       "\n",
       "        [[0.09803922, 0.09411765, 0.08235294],\n",
       "         [0.0627451 , 0.02745098, 0.        ],\n",
       "         [0.19215686, 0.10588235, 0.03137255],\n",
       "         ...,\n",
       "         [0.4627451 , 0.32941176, 0.19607843],\n",
       "         [0.47058824, 0.32941176, 0.19607843],\n",
       "         [0.42745098, 0.28627451, 0.16470588]],\n",
       "\n",
       "        ...,\n",
       "\n",
       "        [[0.81568627, 0.66666667, 0.37647059],\n",
       "         [0.78823529, 0.6       , 0.13333333],\n",
       "         [0.77647059, 0.63137255, 0.10196078],\n",
       "         ...,\n",
       "         [0.62745098, 0.52156863, 0.2745098 ],\n",
       "         [0.21960784, 0.12156863, 0.02745098],\n",
       "         [0.20784314, 0.13333333, 0.07843137]],\n",
       "\n",
       "        [[0.70588235, 0.54509804, 0.37647059],\n",
       "         [0.67843137, 0.48235294, 0.16470588],\n",
       "         [0.72941176, 0.56470588, 0.11764706],\n",
       "         ...,\n",
       "         [0.72156863, 0.58039216, 0.36862745],\n",
       "         [0.38039216, 0.24313725, 0.13333333],\n",
       "         [0.3254902 , 0.20784314, 0.13333333]],\n",
       "\n",
       "        [[0.69411765, 0.56470588, 0.45490196],\n",
       "         [0.65882353, 0.50588235, 0.36862745],\n",
       "         [0.70196078, 0.55686275, 0.34117647],\n",
       "         ...,\n",
       "         [0.84705882, 0.72156863, 0.54901961],\n",
       "         [0.59215686, 0.4627451 , 0.32941176],\n",
       "         [0.48235294, 0.36078431, 0.28235294]]],\n",
       "\n",
       "\n",
       "       [[[0.60392157, 0.69411765, 0.73333333],\n",
       "         [0.49411765, 0.5372549 , 0.53333333],\n",
       "         [0.41176471, 0.40784314, 0.37254902],\n",
       "         ...,\n",
       "         [0.35686275, 0.37254902, 0.27843137],\n",
       "         [0.34117647, 0.35294118, 0.27843137],\n",
       "         [0.30980392, 0.31764706, 0.2745098 ]],\n",
       "\n",
       "        [[0.54901961, 0.62745098, 0.6627451 ],\n",
       "         [0.56862745, 0.6       , 0.60392157],\n",
       "         [0.49019608, 0.49019608, 0.4627451 ],\n",
       "         ...,\n",
       "         [0.37647059, 0.38823529, 0.30588235],\n",
       "         [0.30196078, 0.31372549, 0.24313725],\n",
       "         [0.27843137, 0.28627451, 0.23921569]],\n",
       "\n",
       "        [[0.54901961, 0.60784314, 0.64313725],\n",
       "         [0.54509804, 0.57254902, 0.58431373],\n",
       "         [0.45098039, 0.45098039, 0.43921569],\n",
       "         ...,\n",
       "         [0.30980392, 0.32156863, 0.25098039],\n",
       "         [0.26666667, 0.2745098 , 0.21568627],\n",
       "         [0.2627451 , 0.27058824, 0.21568627]],\n",
       "\n",
       "        ...,\n",
       "\n",
       "        [[0.68627451, 0.65490196, 0.65098039],\n",
       "         [0.61176471, 0.60392157, 0.62745098],\n",
       "         [0.60392157, 0.62745098, 0.66666667],\n",
       "         ...,\n",
       "         [0.16470588, 0.13333333, 0.14117647],\n",
       "         [0.23921569, 0.20784314, 0.22352941],\n",
       "         [0.36470588, 0.3254902 , 0.35686275]],\n",
       "\n",
       "        [[0.64705882, 0.60392157, 0.50196078],\n",
       "         [0.61176471, 0.59607843, 0.50980392],\n",
       "         [0.62352941, 0.63137255, 0.55686275],\n",
       "         ...,\n",
       "         [0.40392157, 0.36470588, 0.37647059],\n",
       "         [0.48235294, 0.44705882, 0.47058824],\n",
       "         [0.51372549, 0.4745098 , 0.51372549]],\n",
       "\n",
       "        [[0.63921569, 0.58039216, 0.47058824],\n",
       "         [0.61960784, 0.58039216, 0.47843137],\n",
       "         [0.63921569, 0.61176471, 0.52156863],\n",
       "         ...,\n",
       "         [0.56078431, 0.52156863, 0.54509804],\n",
       "         [0.56078431, 0.5254902 , 0.55686275],\n",
       "         [0.56078431, 0.52156863, 0.56470588]]],\n",
       "\n",
       "\n",
       "       [[[1.        , 1.        , 1.        ],\n",
       "         [0.99215686, 0.99215686, 0.99215686],\n",
       "         [0.99215686, 0.99215686, 0.99215686],\n",
       "         ...,\n",
       "         [0.99215686, 0.99215686, 0.99215686],\n",
       "         [0.99215686, 0.99215686, 0.99215686],\n",
       "         [0.99215686, 0.99215686, 0.99215686]],\n",
       "\n",
       "        [[1.        , 1.        , 1.        ],\n",
       "         [1.        , 1.        , 1.        ],\n",
       "         [1.        , 1.        , 1.        ],\n",
       "         ...,\n",
       "         [1.        , 1.        , 1.        ],\n",
       "         [1.        , 1.        , 1.        ],\n",
       "         [1.        , 1.        , 1.        ]],\n",
       "\n",
       "        [[1.        , 1.        , 1.        ],\n",
       "         [0.99607843, 0.99607843, 0.99607843],\n",
       "         [0.99607843, 0.99607843, 0.99607843],\n",
       "         ...,\n",
       "         [0.99607843, 0.99607843, 0.99607843],\n",
       "         [0.99607843, 0.99607843, 0.99607843],\n",
       "         [0.99607843, 0.99607843, 0.99607843]],\n",
       "\n",
       "        ...,\n",
       "\n",
       "        [[0.44313725, 0.47058824, 0.43921569],\n",
       "         [0.43529412, 0.4627451 , 0.43529412],\n",
       "         [0.41176471, 0.43921569, 0.41568627],\n",
       "         ...,\n",
       "         [0.28235294, 0.31764706, 0.31372549],\n",
       "         [0.28235294, 0.31372549, 0.30980392],\n",
       "         [0.28235294, 0.31372549, 0.30980392]],\n",
       "\n",
       "        [[0.43529412, 0.4627451 , 0.43137255],\n",
       "         [0.40784314, 0.43529412, 0.40784314],\n",
       "         [0.38823529, 0.41568627, 0.38431373],\n",
       "         ...,\n",
       "         [0.26666667, 0.29411765, 0.28627451],\n",
       "         [0.2745098 , 0.29803922, 0.29411765],\n",
       "         [0.30588235, 0.32941176, 0.32156863]],\n",
       "\n",
       "        [[0.41568627, 0.44313725, 0.41176471],\n",
       "         [0.38823529, 0.41568627, 0.38431373],\n",
       "         [0.37254902, 0.4       , 0.36862745],\n",
       "         ...,\n",
       "         [0.30588235, 0.33333333, 0.3254902 ],\n",
       "         [0.30980392, 0.33333333, 0.3254902 ],\n",
       "         [0.31372549, 0.3372549 , 0.32941176]]],\n",
       "\n",
       "\n",
       "       ...,\n",
       "\n",
       "\n",
       "       [[[0.1372549 , 0.69803922, 0.92156863],\n",
       "         [0.15686275, 0.69019608, 0.9372549 ],\n",
       "         [0.16470588, 0.69019608, 0.94509804],\n",
       "         ...,\n",
       "         [0.38823529, 0.69411765, 0.85882353],\n",
       "         [0.30980392, 0.57647059, 0.77254902],\n",
       "         [0.34901961, 0.58039216, 0.74117647]],\n",
       "\n",
       "        [[0.22352941, 0.71372549, 0.91764706],\n",
       "         [0.17254902, 0.72156863, 0.98039216],\n",
       "         [0.19607843, 0.71764706, 0.94117647],\n",
       "         ...,\n",
       "         [0.61176471, 0.71372549, 0.78431373],\n",
       "         [0.55294118, 0.69411765, 0.80784314],\n",
       "         [0.45490196, 0.58431373, 0.68627451]],\n",
       "\n",
       "        [[0.38431373, 0.77254902, 0.92941176],\n",
       "         [0.25098039, 0.74117647, 0.98823529],\n",
       "         [0.27058824, 0.75294118, 0.96078431],\n",
       "         ...,\n",
       "         [0.7372549 , 0.76470588, 0.80784314],\n",
       "         [0.46666667, 0.52941176, 0.57647059],\n",
       "         [0.23921569, 0.30980392, 0.35294118]],\n",
       "\n",
       "        ...,\n",
       "\n",
       "        [[0.28627451, 0.30980392, 0.30196078],\n",
       "         [0.20784314, 0.24705882, 0.26666667],\n",
       "         [0.21176471, 0.26666667, 0.31372549],\n",
       "         ...,\n",
       "         [0.06666667, 0.15686275, 0.25098039],\n",
       "         [0.08235294, 0.14117647, 0.2       ],\n",
       "         [0.12941176, 0.18823529, 0.19215686]],\n",
       "\n",
       "        [[0.23921569, 0.26666667, 0.29411765],\n",
       "         [0.21568627, 0.2745098 , 0.3372549 ],\n",
       "         [0.22352941, 0.30980392, 0.40392157],\n",
       "         ...,\n",
       "         [0.09411765, 0.18823529, 0.28235294],\n",
       "         [0.06666667, 0.1372549 , 0.20784314],\n",
       "         [0.02745098, 0.09019608, 0.1254902 ]],\n",
       "\n",
       "        [[0.17254902, 0.21960784, 0.28627451],\n",
       "         [0.18039216, 0.25882353, 0.34509804],\n",
       "         [0.19215686, 0.30196078, 0.41176471],\n",
       "         ...,\n",
       "         [0.10588235, 0.20392157, 0.30196078],\n",
       "         [0.08235294, 0.16862745, 0.25882353],\n",
       "         [0.04705882, 0.12156863, 0.19607843]]],\n",
       "\n",
       "\n",
       "       [[[0.74117647, 0.82745098, 0.94117647],\n",
       "         [0.72941176, 0.81568627, 0.9254902 ],\n",
       "         [0.7254902 , 0.81176471, 0.92156863],\n",
       "         ...,\n",
       "         [0.68627451, 0.76470588, 0.87843137],\n",
       "         [0.6745098 , 0.76078431, 0.87058824],\n",
       "         [0.6627451 , 0.76078431, 0.8627451 ]],\n",
       "\n",
       "        [[0.76078431, 0.82352941, 0.9372549 ],\n",
       "         [0.74901961, 0.81176471, 0.9254902 ],\n",
       "         [0.74509804, 0.80784314, 0.92156863],\n",
       "         ...,\n",
       "         [0.67843137, 0.75294118, 0.8627451 ],\n",
       "         [0.67058824, 0.74901961, 0.85490196],\n",
       "         [0.65490196, 0.74509804, 0.84705882]],\n",
       "\n",
       "        [[0.81568627, 0.85882353, 0.95686275],\n",
       "         [0.80392157, 0.84705882, 0.94117647],\n",
       "         [0.8       , 0.84313725, 0.9372549 ],\n",
       "         ...,\n",
       "         [0.68627451, 0.74901961, 0.85098039],\n",
       "         [0.6745098 , 0.74509804, 0.84705882],\n",
       "         [0.6627451 , 0.74901961, 0.84313725]],\n",
       "\n",
       "        ...,\n",
       "\n",
       "        [[0.81176471, 0.78039216, 0.70980392],\n",
       "         [0.79607843, 0.76470588, 0.68627451],\n",
       "         [0.79607843, 0.76862745, 0.67843137],\n",
       "         ...,\n",
       "         [0.52941176, 0.51764706, 0.49803922],\n",
       "         [0.63529412, 0.61960784, 0.58823529],\n",
       "         [0.65882353, 0.63921569, 0.59215686]],\n",
       "\n",
       "        [[0.77647059, 0.74509804, 0.66666667],\n",
       "         [0.74117647, 0.70980392, 0.62352941],\n",
       "         [0.70588235, 0.6745098 , 0.57647059],\n",
       "         ...,\n",
       "         [0.69803922, 0.67058824, 0.62745098],\n",
       "         [0.68627451, 0.6627451 , 0.61176471],\n",
       "         [0.68627451, 0.6627451 , 0.60392157]],\n",
       "\n",
       "        [[0.77647059, 0.74117647, 0.67843137],\n",
       "         [0.74117647, 0.70980392, 0.63529412],\n",
       "         [0.69803922, 0.66666667, 0.58431373],\n",
       "         ...,\n",
       "         [0.76470588, 0.72156863, 0.6627451 ],\n",
       "         [0.76862745, 0.74117647, 0.67058824],\n",
       "         [0.76470588, 0.74509804, 0.67058824]]],\n",
       "\n",
       "\n",
       "       [[[0.89803922, 0.89803922, 0.9372549 ],\n",
       "         [0.9254902 , 0.92941176, 0.96862745],\n",
       "         [0.91764706, 0.9254902 , 0.96862745],\n",
       "         ...,\n",
       "         [0.85098039, 0.85882353, 0.91372549],\n",
       "         [0.86666667, 0.8745098 , 0.91764706],\n",
       "         [0.87058824, 0.8745098 , 0.91372549]],\n",
       "\n",
       "        [[0.87058824, 0.86666667, 0.89803922],\n",
       "         [0.9372549 , 0.9372549 , 0.97647059],\n",
       "         [0.91372549, 0.91764706, 0.96470588],\n",
       "         ...,\n",
       "         [0.8745098 , 0.8745098 , 0.9254902 ],\n",
       "         [0.89019608, 0.89411765, 0.93333333],\n",
       "         [0.82352941, 0.82745098, 0.8627451 ]],\n",
       "\n",
       "        [[0.83529412, 0.80784314, 0.82745098],\n",
       "         [0.91764706, 0.90980392, 0.9372549 ],\n",
       "         [0.90588235, 0.91372549, 0.95686275],\n",
       "         ...,\n",
       "         [0.8627451 , 0.8627451 , 0.90980392],\n",
       "         [0.8627451 , 0.85882353, 0.90980392],\n",
       "         [0.79215686, 0.79607843, 0.84313725]],\n",
       "\n",
       "        ...,\n",
       "\n",
       "        [[0.58823529, 0.56078431, 0.52941176],\n",
       "         [0.54901961, 0.52941176, 0.49803922],\n",
       "         [0.51764706, 0.49803922, 0.47058824],\n",
       "         ...,\n",
       "         [0.87843137, 0.87058824, 0.85490196],\n",
       "         [0.90196078, 0.89411765, 0.88235294],\n",
       "         [0.94509804, 0.94509804, 0.93333333]],\n",
       "\n",
       "        [[0.5372549 , 0.51764706, 0.49411765],\n",
       "         [0.50980392, 0.49803922, 0.47058824],\n",
       "         [0.49019608, 0.4745098 , 0.45098039],\n",
       "         ...,\n",
       "         [0.70980392, 0.70588235, 0.69803922],\n",
       "         [0.79215686, 0.78823529, 0.77647059],\n",
       "         [0.83137255, 0.82745098, 0.81176471]],\n",
       "\n",
       "        [[0.47843137, 0.46666667, 0.44705882],\n",
       "         [0.4627451 , 0.45490196, 0.43137255],\n",
       "         [0.47058824, 0.45490196, 0.43529412],\n",
       "         ...,\n",
       "         [0.70196078, 0.69411765, 0.67843137],\n",
       "         [0.64313725, 0.64313725, 0.63529412],\n",
       "         [0.63921569, 0.63921569, 0.63137255]]]])"
      ]
     },
     "execution_count": 14,
     "metadata": {},
     "output_type": "execute_result"
    }
   ],
   "source": [
    "#Let us see the data again after scaling.\n",
    "x_train_scaled\n",
    "#note that this is a 4D tensor."
   ]
  },
  {
   "cell_type": "code",
   "execution_count": 15,
   "metadata": {},
   "outputs": [],
   "source": [
    "#Flattening the train tensor; placing all pixel for one image in one dimension\n",
    "TOTAL_INPUTS=32*32*3\n",
    "x_train_scaled_flat = x_train_scaled.reshape(x_train_scaled.shape[0], TOTAL_INPUTS)"
   ]
  },
  {
   "cell_type": "code",
   "execution_count": 16,
   "metadata": {},
   "outputs": [
    {
     "data": {
      "text/plain": [
       "array([[0.23137255, 0.24313725, 0.24705882, ..., 0.48235294, 0.36078431,\n",
       "        0.28235294],\n",
       "       [0.60392157, 0.69411765, 0.73333333, ..., 0.56078431, 0.52156863,\n",
       "        0.56470588],\n",
       "       [1.        , 1.        , 1.        , ..., 0.31372549, 0.3372549 ,\n",
       "        0.32941176],\n",
       "       ...,\n",
       "       [0.1372549 , 0.69803922, 0.92156863, ..., 0.04705882, 0.12156863,\n",
       "        0.19607843],\n",
       "       [0.74117647, 0.82745098, 0.94117647, ..., 0.76470588, 0.74509804,\n",
       "        0.67058824],\n",
       "       [0.89803922, 0.89803922, 0.9372549 , ..., 0.63921569, 0.63921569,\n",
       "        0.63137255]])"
      ]
     },
     "execution_count": 16,
     "metadata": {},
     "output_type": "execute_result"
    }
   ],
   "source": [
    "#Let us see how this flat array looks like\n",
    "x_train_scaled_flat\n",
    "#Now it is a 2D tensor."
   ]
  },
  {
   "cell_type": "code",
   "execution_count": 17,
   "metadata": {},
   "outputs": [
    {
     "data": {
      "text/plain": [
       "(50000, 3072)"
      ]
     },
     "execution_count": 17,
     "metadata": {},
     "output_type": "execute_result"
    }
   ],
   "source": [
    "x_train_scaled_flat.shape\n",
    "#Note that 3072 = 32 x 32 x 3"
   ]
  },
  {
   "cell_type": "markdown",
   "metadata": {},
   "source": [
    "### Scaling and flattening the test data"
   ]
  },
  {
   "cell_type": "code",
   "execution_count": 18,
   "metadata": {},
   "outputs": [],
   "source": [
    "#Scaling the test tensor between 0 and 1.\n",
    "x_test_scaled = x_test_org / 255.0"
   ]
  },
  {
   "cell_type": "code",
   "execution_count": 19,
   "metadata": {
    "id": "XFIDMRX6ZOiA"
   },
   "outputs": [
    {
     "data": {
      "text/plain": [
       "array([[0.61960784, 0.43921569, 0.19215686, ..., 0.08235294, 0.2627451 ,\n",
       "        0.43137255],\n",
       "       [0.92156863, 0.92156863, 0.92156863, ..., 0.72941176, 0.78431373,\n",
       "        0.78039216],\n",
       "       [0.61960784, 0.74509804, 0.87058824, ..., 0.02745098, 0.03137255,\n",
       "        0.02745098],\n",
       "       ...,\n",
       "       [0.07843137, 0.05882353, 0.04705882, ..., 0.09803922, 0.07843137,\n",
       "        0.18431373],\n",
       "       [0.09803922, 0.15686275, 0.04705882, ..., 0.36078431, 0.47058824,\n",
       "        0.31372549],\n",
       "       [0.28627451, 0.30588235, 0.29411765, ..., 0.10588235, 0.10196078,\n",
       "        0.10196078]])"
      ]
     },
     "execution_count": 19,
     "metadata": {},
     "output_type": "execute_result"
    }
   ],
   "source": [
    "#Flattening the test tensor; placing all pixel for one image in one dimension\n",
    "x_test_scaled_flat = x_test_scaled.reshape(x_test_scaled.shape[0], TOTAL_INPUTS)\n",
    "x_test_scaled_flat"
   ]
  },
  {
   "cell_type": "code",
   "execution_count": 20,
   "metadata": {},
   "outputs": [
    {
     "data": {
      "text/plain": [
       "(10000, 3072)"
      ]
     },
     "execution_count": 20,
     "metadata": {},
     "output_type": "execute_result"
    }
   ],
   "source": [
    "#x_test\n",
    "x_test_scaled_flat.shape"
   ]
  },
  {
   "cell_type": "code",
   "execution_count": 21,
   "metadata": {},
   "outputs": [],
   "source": [
    "#Renaming x_test_scaled_flat to simply x_test for easier use later.\n",
    "x_test = x_test_scaled_flat\n",
    "#Renaming y_test_org to simply y_test for easier use later.\n",
    "y_test=y_test_org"
   ]
  },
  {
   "cell_type": "markdown",
   "metadata": {},
   "source": [
    "### Creating Validation Dataset\n",
    "Since the dataset is pretty large, let us make a third set also; by dividing the trainset further into train and validation sets."
   ]
  },
  {
   "cell_type": "code",
   "execution_count": 22,
   "metadata": {},
   "outputs": [
    {
     "data": {
      "text/plain": [
       "(10000, 3072)"
      ]
     },
     "execution_count": 22,
     "metadata": {},
     "output_type": "execute_result"
    }
   ],
   "source": [
    "VALIDATION_SIZE=10000\n",
    "\n",
    "##Creating validation set\n",
    "x_val = x_train_scaled_flat[:VALIDATION_SIZE]\n",
    "y_val = y_train_org[:VALIDATION_SIZE]\n",
    "x_val.shape"
   ]
  },
  {
   "cell_type": "code",
   "execution_count": 23,
   "metadata": {},
   "outputs": [
    {
     "data": {
      "text/plain": [
       "(40000, 3072)"
      ]
     },
     "execution_count": 23,
     "metadata": {},
     "output_type": "execute_result"
    }
   ],
   "source": [
    "##Creating the remaining train set\n",
    "x_train = x_train_scaled_flat[VALIDATION_SIZE:]\n",
    "y_train = y_train_org[VALIDATION_SIZE:]\n",
    "x_train.shape"
   ]
  },
  {
   "cell_type": "markdown",
   "metadata": {},
   "source": [
    "So now we have three scaled and flattened datasets:\n",
    "- The train set haing 40000 samples\n",
    "- The validation set having 10000 samples\n",
    "- The test set having 10000 samples"
   ]
  },
  {
   "cell_type": "markdown",
   "metadata": {},
   "source": [
    "## Define the Neural Network using Keras"
   ]
  },
  {
   "cell_type": "markdown",
   "metadata": {},
   "source": [
    "### Model 1"
   ]
  },
  {
   "cell_type": "code",
   "execution_count": 24,
   "metadata": {},
   "outputs": [],
   "source": [
    "model_1 = Sequential([\n",
    "    Dense(units=128, input_dim=TOTAL_INPUTS, activation='relu', name='m1_hidden1'),\n",
    "    Dense(units=64, activation='relu', name='m1_hidden2'),\n",
    "    Dense(16, activation='relu', name='m1_hidden3'),\n",
    "    Dense(10, activation='softmax', name='m1_output')\n",
    "])\n",
    "#if we donot give names to the layers, then the names keep on changing on every run\n",
    "\n",
    "model_1.compile(optimizer='adam', \n",
    "                loss='sparse_categorical_crossentropy', \n",
    "                metrics=['accuracy'])"
   ]
  },
  {
   "cell_type": "code",
   "execution_count": 25,
   "metadata": {},
   "outputs": [
    {
     "name": "stdout",
     "output_type": "stream",
     "text": [
      "Model: \"sequential\"\n",
      "_________________________________________________________________\n",
      " Layer (type)                Output Shape              Param #   \n",
      "=================================================================\n",
      " m1_hidden1 (Dense)          (None, 128)               393344    \n",
      "                                                                 \n",
      " m1_hidden2 (Dense)          (None, 64)                8256      \n",
      "                                                                 \n",
      " m1_hidden3 (Dense)          (None, 16)                1040      \n",
      "                                                                 \n",
      " m1_output (Dense)           (None, 10)                170       \n",
      "                                                                 \n",
      "=================================================================\n",
      "Total params: 402,810\n",
      "Trainable params: 402,810\n",
      "Non-trainable params: 0\n",
      "_________________________________________________________________\n"
     ]
    }
   ],
   "source": [
    "type(model_1)\n",
    "model_1.summary()"
   ]
  },
  {
   "cell_type": "markdown",
   "metadata": {},
   "source": [
    "- Total neurons in layer m1_hidden1 = (TOTAL_INPUTS+1)*128   ;+1 for the additional bias node\n",
    "- Total neurons in layer m1_hidden2 = (128+1)*64  \n",
    "- Total neurons in layer m1_hidden3 = (64+1)*16\n",
    "- Total neurons in layer m1_output = (16+1)*10"
   ]
  },
  {
   "cell_type": "markdown",
   "metadata": {},
   "source": [
    "### Model 2\n",
    "\n",
    "- With one dropout layer."
   ]
  },
  {
   "cell_type": "code",
   "execution_count": 26,
   "metadata": {},
   "outputs": [],
   "source": [
    "model_2 = Sequential()\n",
    "model_2.add(Dropout(0.2, seed=42, input_shape=(TOTAL_INPUTS,)))\n",
    "model_2.add(Dense(128, activation='relu', name='m2_hidden1'))\n",
    "model_2.add(Dense(64, activation='relu', name='m2_hidden2'))\n",
    "model_2.add(Dense(15, activation='relu', name='m2_hidden3'))\n",
    "model_2.add(Dense(10, activation='softmax', name='m2_output'))\n",
    "\n",
    "model_2.compile(optimizer='adam', \n",
    "                loss='sparse_categorical_crossentropy', \n",
    "                metrics=['accuracy'])"
   ]
  },
  {
   "cell_type": "code",
   "execution_count": 27,
   "metadata": {},
   "outputs": [
    {
     "name": "stdout",
     "output_type": "stream",
     "text": [
      "Model: \"sequential_1\"\n",
      "_________________________________________________________________\n",
      " Layer (type)                Output Shape              Param #   \n",
      "=================================================================\n",
      " dropout (Dropout)           (None, 3072)              0         \n",
      "                                                                 \n",
      " m2_hidden1 (Dense)          (None, 128)               393344    \n",
      "                                                                 \n",
      " m2_hidden2 (Dense)          (None, 64)                8256      \n",
      "                                                                 \n",
      " m2_hidden3 (Dense)          (None, 15)                975       \n",
      "                                                                 \n",
      " m2_output (Dense)           (None, 10)                160       \n",
      "                                                                 \n",
      "=================================================================\n",
      "Total params: 402,735\n",
      "Trainable params: 402,735\n",
      "Non-trainable params: 0\n",
      "_________________________________________________________________\n"
     ]
    }
   ],
   "source": [
    "model_2.summary()"
   ]
  },
  {
   "cell_type": "markdown",
   "metadata": {},
   "source": [
    "### Model 3\n",
    "\n",
    "- With two dropout layers. \n",
    "- The second dropout layer should be added after the first hidden layer and have a dropout rate of 25%. "
   ]
  },
  {
   "cell_type": "code",
   "execution_count": 28,
   "metadata": {},
   "outputs": [],
   "source": [
    "model_3 = Sequential()\n",
    "model_3.add(Dropout(0.2, seed=42, input_shape=(TOTAL_INPUTS,)))\n",
    "model_3.add(Dense(128, activation='relu', name='m3_hidden1'))\n",
    "model_3.add(Dropout(0.25, seed=42))\n",
    "model_3.add(Dense(64, activation='relu', name='m3_hidden2'))\n",
    "model_3.add(Dense(15, activation='relu', name='m3_hidden3'))\n",
    "model_3.add(Dense(10, activation='softmax', name='m3_output'))\n",
    "\n",
    "model_3.compile(optimizer='adam', \n",
    "                loss='sparse_categorical_crossentropy', \n",
    "                metrics=['accuracy'])"
   ]
  },
  {
   "cell_type": "code",
   "execution_count": 29,
   "metadata": {},
   "outputs": [
    {
     "name": "stdout",
     "output_type": "stream",
     "text": [
      "Model: \"sequential_2\"\n",
      "_________________________________________________________________\n",
      " Layer (type)                Output Shape              Param #   \n",
      "=================================================================\n",
      " dropout_1 (Dropout)         (None, 3072)              0         \n",
      "                                                                 \n",
      " m3_hidden1 (Dense)          (None, 128)               393344    \n",
      "                                                                 \n",
      " dropout_2 (Dropout)         (None, 128)               0         \n",
      "                                                                 \n",
      " m3_hidden2 (Dense)          (None, 64)                8256      \n",
      "                                                                 \n",
      " m3_hidden3 (Dense)          (None, 15)                975       \n",
      "                                                                 \n",
      " m3_output (Dense)           (None, 10)                160       \n",
      "                                                                 \n",
      "=================================================================\n",
      "Total params: 402,735\n",
      "Trainable params: 402,735\n",
      "Non-trainable params: 0\n",
      "_________________________________________________________________\n"
     ]
    }
   ],
   "source": [
    "model_3.summary()"
   ]
  },
  {
   "cell_type": "markdown",
   "metadata": {},
   "source": [
    "## Tensorboard (visualising learning)"
   ]
  },
  {
   "cell_type": "code",
   "execution_count": 32,
   "metadata": {},
   "outputs": [],
   "source": [
    "#Setting main folder and subfolders for tendboard\n",
    "LOG_DIR = 'tensorboard_cifar_logs/'\n",
    "\n",
    "def get_tensorboard(model_name):\n",
    "    sub_folder_name = f'{model_name}_at_{strftime(\"%H_%M\")}'\n",
    "    dir_paths = os.path.join(LOG_DIR, sub_folder_name)\n",
    "    os.makedirs(dir_paths)\n",
    "    return TensorBoard(log_dir=dir_paths)"
   ]
  },
  {
   "cell_type": "markdown",
   "metadata": {},
   "source": [
    "### Loading tensor board in notebook"
   ]
  },
  {
   "cell_type": "code",
   "execution_count": 33,
   "metadata": {},
   "outputs": [
    {
     "name": "stdout",
     "output_type": "stream",
     "text": [
      "The tensorboard extension is already loaded. To reload it, use:\n",
      "  %reload_ext tensorboard\n"
     ]
    },
    {
     "data": {
      "text/html": [
       "\n",
       "      <iframe id=\"tensorboard-frame-4bc12c83f233e2f6\" width=\"100%\" height=\"800\" frameborder=\"0\">\n",
       "      </iframe>\n",
       "      <script>\n",
       "        (function() {\n",
       "          const frame = document.getElementById(\"tensorboard-frame-4bc12c83f233e2f6\");\n",
       "          const url = new URL(\"/\", window.location);\n",
       "          const port = 6006;\n",
       "          if (port) {\n",
       "            url.port = port;\n",
       "          }\n",
       "          frame.src = url;\n",
       "        })();\n",
       "      </script>\n",
       "    "
      ],
      "text/plain": [
       "<IPython.core.display.HTML object>"
      ]
     },
     "metadata": {},
     "output_type": "display_data"
    }
   ],
   "source": [
    "# Load the TensorBoard notebook extension\n",
    "%load_ext tensorboard\n",
    "%tensorboard --logdir=tensorboard_cifar_logs"
   ]
  },
  {
   "cell_type": "markdown",
   "metadata": {},
   "source": [
    "If using Anaconda, you can open this tensor board in a new tab which gives mush better view. For this:\n",
    "1. Open a new anaconda prompt.\n",
    "\n",
    "\n",
    "2. On the command prompt type the following command to run TensorBoard:\n",
    "\n",
    "  tensorboard --logdir=tensorboard_cifar_logs\n",
    "  \n",
    "  where LOG_DIR is the directory that we set up earlier for tensorboard.\n",
    "  \n",
    "  \n",
    "3. Run the command and let it execute. After excution it will give an IP address which you can paste in fresh browser window where tensor boeard will be run.\n",
    "\n"
   ]
  },
  {
   "cell_type": "markdown",
   "metadata": {},
   "source": [
    "## Fitting the Model"
   ]
  },
  {
   "cell_type": "code",
   "execution_count": 34,
   "metadata": {},
   "outputs": [],
   "source": [
    "#Let us set some hyperparameters first. \n",
    "#You may use different values for different models, \n",
    "#but for simplicity here these are kept same for all the three models.\n",
    "samples_per_batch = 1000\n",
    "nr_epochs = 150"
   ]
  },
  {
   "cell_type": "markdown",
   "metadata": {},
   "source": [
    "### Fitting Model 1 "
   ]
  },
  {
   "cell_type": "code",
   "execution_count": 35,
   "metadata": {},
   "outputs": [
    {
     "name": "stdout",
     "output_type": "stream",
     "text": [
      "Wall time: 2min 46s\n"
     ]
    },
    {
     "data": {
      "text/plain": [
       "<keras.callbacks.History at 0x1c24c7242b0>"
      ]
     },
     "execution_count": 35,
     "metadata": {},
     "output_type": "execute_result"
    }
   ],
   "source": [
    "%%time\n",
    "model_1.fit(x_train, y_train, batch_size=samples_per_batch, epochs=nr_epochs,\n",
    "            callbacks=[get_tensorboard('Model_1')], verbose=0, validation_data=(x_val, y_val))"
   ]
  },
  {
   "cell_type": "markdown",
   "metadata": {},
   "source": [
    "### Fitting Model 2"
   ]
  },
  {
   "cell_type": "code",
   "execution_count": null,
   "metadata": {},
   "outputs": [],
   "source": [
    "%%time\n",
    "model_2.fit(x_train, y_train, batch_size=samples_per_batch, epochs=nr_epochs,\n",
    "            callbacks=[get_tensorboard('Model_2')], verbose=0, validation_data=(x_val, y_val))"
   ]
  },
  {
   "cell_type": "markdown",
   "metadata": {},
   "source": [
    "### Fitting Model 3"
   ]
  },
  {
   "cell_type": "code",
   "execution_count": null,
   "metadata": {},
   "outputs": [],
   "source": [
    "%%time\n",
    "model_3.fit(x_train, y_train, batch_size=samples_per_batch, epochs=nr_epochs,\n",
    "            callbacks=[get_tensorboard('Model_3')], verbose=0, validation_data=(x_val, y_val))"
   ]
  },
  {
   "cell_type": "markdown",
   "metadata": {},
   "source": [
    "### Some points to remember:\n",
    "\n",
    "- Models starts training from the point where it left last time. To avoid this, compile the model afresh.\n",
    "\n",
    "- On different runs, the optimiser may start from a different point (different initial values of the weights), hence generating a different graphs each time."
   ]
  },
  {
   "cell_type": "markdown",
   "metadata": {},
   "source": [
    "## Making Predictions on Individual Images"
   ]
  },
  {
   "cell_type": "markdown",
   "metadata": {},
   "source": [
    "- In the following code model_1 is used for prediction.\n",
    "- You may use model_2 or model_3 too by making necessary alterations in the model name."
   ]
  },
  {
   "cell_type": "code",
   "execution_count": 36,
   "metadata": {},
   "outputs": [
    {
     "data": {
      "text/plain": [
       "(3072,)"
      ]
     },
     "execution_count": 36,
     "metadata": {},
     "output_type": "execute_result"
    }
   ],
   "source": [
    "image_nr=4\n",
    "x_val[image_nr].shape"
   ]
  },
  {
   "cell_type": "code",
   "execution_count": 37,
   "metadata": {},
   "outputs": [
    {
     "data": {
      "text/plain": [
       "(1, 3072)"
      ]
     },
     "execution_count": 37,
     "metadata": {},
     "output_type": "execute_result"
    }
   ],
   "source": [
    "##Adding a dimension as per requirement of predict method\n",
    "test = np.expand_dims(x_val[image_nr], axis=0)\n",
    "test.shape"
   ]
  },
  {
   "cell_type": "code",
   "execution_count": 38,
   "metadata": {},
   "outputs": [
    {
     "name": "stdout",
     "output_type": "stream",
     "text": [
      "1/1 [==============================] - 0s 101ms/step\n"
     ]
    },
    {
     "data": {
      "text/plain": [
       "array([[9.8724276e-02, 2.0316204e-02, 1.3187173e-03, 5.4737451e-05,\n",
       "        7.7551450e-03, 4.5418208e-05, 5.6221035e-07, 6.2991574e-04,\n",
       "        8.6390406e-01, 7.2508464e-03]], dtype=float32)"
      ]
     },
     "execution_count": 38,
     "metadata": {},
     "output_type": "execute_result"
    }
   ],
   "source": [
    "model_1.predict(test)"
   ]
  },
  {
   "cell_type": "markdown",
   "metadata": {},
   "source": [
    "- Since the metric set while compiling the model was 'accuracy', so these 10 values given above in the output in the array are accuracy values for each of the 10 classes. \n",
    "- In such cases the prediction is made on the class having the highest accuracy.\n",
    "- The following code picks the highest probability class for us."
   ]
  },
  {
   "cell_type": "code",
   "execution_count": 39,
   "metadata": {},
   "outputs": [
    {
     "name": "stdout",
     "output_type": "stream",
     "text": [
      "1/1 [==============================] - 0s 18ms/step\n",
      "Actual value: Car vs. predicted: Ship\n"
     ]
    }
   ],
   "source": [
    "#Picking the highest probability class\n",
    "predicted_value=np.argmax(model_1.predict(test), axis=1)\n",
    "actual_value=y_val[image_nr]\n",
    "\n",
    "print(f'Actual value: {LABEL_NAMES[actual_value[0]]} vs. predicted: {LABEL_NAMES[predicted_value[0]]}')"
   ]
  },
  {
   "cell_type": "code",
   "execution_count": 40,
   "metadata": {},
   "outputs": [
    {
     "name": "stdout",
     "output_type": "stream",
     "text": [
      "Actual value: [6] vs. predicted: [8]\n"
     ]
    }
   ],
   "source": [
    "#printing the corresponding class numbers.\n",
    "print(f'Actual value: {y_val[0]} vs. predicted: {predicted_value}')"
   ]
  },
  {
   "cell_type": "markdown",
   "metadata": {},
   "source": [
    "## Evaluation\n",
    "- Now let us evaluate model_1 for the test dataset that we initially kept aside.\n",
    "- We already know the accoracy and loss values for train and validation dataset from tensor board, when we fitted out model.\n",
    "- You can do the same for other two models, model_2 and model_3, too."
   ]
  },
  {
   "cell_type": "code",
   "execution_count": 42,
   "metadata": {},
   "outputs": [
    {
     "data": {
      "text/plain": [
       "['loss', 'accuracy']"
      ]
     },
     "execution_count": 42,
     "metadata": {},
     "output_type": "execute_result"
    }
   ],
   "source": [
    "#Recalling the metrics that we set during compilation of the model.\n",
    "model_1.metrics_names"
   ]
  },
  {
   "cell_type": "code",
   "execution_count": 43,
   "metadata": {},
   "outputs": [
    {
     "name": "stdout",
     "output_type": "stream",
     "text": [
      "313/313 [==============================] - 1s 2ms/step - loss: 1.5168 - accuracy: 0.4916\n",
      "Test loss is 1.52 and test accuracy is 49.2%\n"
     ]
    }
   ],
   "source": [
    "# Let us print the loss funcstion value and overall accuracy of our model on test data.\n",
    "test_loss, test_accuracy = model_1.evaluate(x_test, y_test)\n",
    "print(f'Test loss is {test_loss:0.3} and test accuracy is {test_accuracy:0.1%}')"
   ]
  },
  {
   "cell_type": "markdown",
   "metadata": {},
   "source": [
    "### Confusion Matrix\n",
    "- Now let us print the confusion matrix and find recall and precision values by using the formulas that we studied in class previously. "
   ]
  },
  {
   "cell_type": "code",
   "execution_count": 44,
   "metadata": {},
   "outputs": [
    {
     "name": "stdout",
     "output_type": "stream",
     "text": [
      "313/313 [==============================] - 1s 2ms/step\n"
     ]
    }
   ],
   "source": [
    "predictions=np.argmax(model_1.predict(x_test), axis=1)\n",
    "conf_matrix = confusion_matrix(y_true=y_test, y_pred=predictions)"
   ]
  },
  {
   "cell_type": "code",
   "execution_count": 45,
   "metadata": {},
   "outputs": [
    {
     "data": {
      "image/png": "[encoded data removed]",
      "text/plain": [
       "<Figure size 665x665 with 2 Axes>"
      ]
     },
     "metadata": {
      "needs_background": "light"
     },
     "output_type": "display_data"
    }
   ],
   "source": [
    "# displaying confustion matrix\n",
    "plt.figure(figsize=(7,7), dpi=95)\n",
    "plt.imshow(conf_matrix, cmap=plt.cm.Greens)\n",
    "\n",
    "plt.title('Confusion Matrix', fontsize=16)\n",
    "plt.ylabel('Actual Labels', fontsize=12)\n",
    "plt.xlabel('Predicted Labels', fontsize=12)\n",
    "\n",
    "tick_marks = np.arange(10)\n",
    "plt.yticks(tick_marks, LABEL_NAMES)\n",
    "plt.xticks(tick_marks, LABEL_NAMES)\n",
    "\n",
    "plt.colorbar()\n",
    "\n",
    "for i, j in itertools.product(range(10), range(10)):\n",
    "    plt.text(j, i, conf_matrix[i, j], horizontalalignment='center',\n",
    "            color='white' if conf_matrix[i, j] > conf_matrix.max()/2 else 'black')\n",
    "    \n",
    "\n",
    "plt.show()"
   ]
  },
  {
   "cell_type": "code",
   "execution_count": 46,
   "metadata": {},
   "outputs": [
    {
     "data": {
      "text/plain": [
       "array([0.539, 0.586, 0.384, 0.41 , 0.369, 0.271, 0.574, 0.563, 0.652,\n",
       "       0.568])"
      ]
     },
     "execution_count": 46,
     "metadata": {},
     "output_type": "execute_result"
    }
   ],
   "source": [
    "recall = np.diag(conf_matrix) / np.sum(conf_matrix, axis=1)\n",
    "recall"
   ]
  },
  {
   "cell_type": "code",
   "execution_count": 47,
   "metadata": {},
   "outputs": [
    {
     "name": "stdout",
     "output_type": "stream",
     "text": [
      "Model 1 recall score is 49.16%\n"
     ]
    }
   ],
   "source": [
    "avg_recall = np.mean(recall)\n",
    "print(f'Model 1 recall score is {avg_recall:.2%}')"
   ]
  },
  {
   "cell_type": "code",
   "execution_count": 48,
   "metadata": {},
   "outputs": [
    {
     "data": {
      "text/plain": [
       "array([0.55681818, 0.60102564, 0.3910387 , 0.33606557, 0.45668317,\n",
       "       0.42543171, 0.49783174, 0.5351711 , 0.58738739, 0.51872146])"
      ]
     },
     "execution_count": 48,
     "metadata": {},
     "output_type": "execute_result"
    }
   ],
   "source": [
    "precision = np.diag(conf_matrix) / np.sum(conf_matrix, axis=0)\n",
    "precision"
   ]
  },
  {
   "cell_type": "code",
   "execution_count": 50,
   "metadata": {},
   "outputs": [
    {
     "name": "stdout",
     "output_type": "stream",
     "text": [
      "Model 1 precision score is 49.06%\n",
      "Model 1 f1 score is 49.11%\n"
     ]
    }
   ],
   "source": [
    "avg_precision = np.mean(precision)\n",
    "print(f'Model 1 precision score is {avg_precision:.2%}')\n",
    "\n",
    "f1_score = 2 * (avg_precision * avg_recall) / (avg_precision + avg_recall)\n",
    "print(f'Model 1 f1 score is {f1_score:.2%}')"
   ]
  },
  {
   "cell_type": "code",
   "execution_count": null,
   "metadata": {},
   "outputs": [],
   "source": []
  }
 ],
 "metadata": {
  "accelerator": "GPU",
  "colab": {
   "authorship_tag": "ABX9TyNru6rW2PiObPs3tOkLr3Gc",
   "collapsed_sections": [],
   "name": "Lecture 13 - ANN Case Study1.ipynb",
   "provenance": []
  },
  "kernelspec": {
   "display_name": "Python 3 (ipykernel)",
   "language": "python",
   "name": "python3"
  },
  "language_info": {
   "codemirror_mode": {
    "name": "ipython",
    "version": 3
   },
   "file_extension": ".py",
   "mimetype": "text/x-python",
   "name": "python",
   "nbconvert_exporter": "python",
   "pygments_lexer": "ipython3",
   "version": "3.9.12"
  }
 },
 "nbformat": 4,
 "nbformat_minor": 1
}
